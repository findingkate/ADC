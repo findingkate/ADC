{
    "cells": [
        {
            "cell_type": "markdown",
            "metadata": {
                "collapsed": true
            },
            "source": "# Applied Data Science Capstone Project Notebook"
        },
        {
            "cell_type": "code",
            "execution_count": null,
            "metadata": {},
            "outputs": [],
            "source": "import pandas as pd\nimport requests\nfrom bs4 import BeautifulSoup\n\nreq = requests.get(\"https://en.wikipedia.org/wiki/List_of_postal_codes_of_Canada:_M\")\nsoup = BeautifulSoup(req.content,'lxml')\ntable = soup.find_all('table')[0]\ndf = pd.read_html(str(table))\npd = pd.DataFrame(df[0])\npd = pd[pd.Borough != 'Not assigned']\npd.reset_index(drop=True)\npd\n"
        },
        {
            "cell_type": "code",
            "execution_count": 15,
            "metadata": {},
            "outputs": [
                {
                    "name": "stdout",
                    "output_type": "stream",
                    "text": "    Postal code           Borough  \\\n0           M1A      Not assigned   \n1           M2A      Not assigned   \n2           M3A        North York   \n3           M4A        North York   \n4           M5A  Downtown Toronto   \n5           M6A        North York   \n6           M7A  Downtown Toronto   \n7           M8A      Not assigned   \n8           M9A         Etobicoke   \n9           M1B       Scarborough   \n10          M2B      Not assigned   \n11          M3B        North York   \n12          M4B         East York   \n13          M5B  Downtown Toronto   \n14          M6B        North York   \n15          M7B      Not assigned   \n16          M8B      Not assigned   \n17          M9B         Etobicoke   \n18          M1C       Scarborough   \n19          M2C      Not assigned   \n20          M3C        North York   \n21          M4C         East York   \n22          M5C  Downtown Toronto   \n23          M6C              York   \n24          M7C      Not assigned   \n25          M8C      Not assigned   \n26          M9C         Etobicoke   \n27          M1E       Scarborough   \n28          M2E      Not assigned   \n29          M3E      Not assigned   \n..          ...               ...   \n150         M7W      Not assigned   \n151         M8W         Etobicoke   \n152         M9W         Etobicoke   \n153         M1X       Scarborough   \n154         M2X      Not assigned   \n155         M3X      Not assigned   \n156         M4X  Downtown Toronto   \n157         M5X  Downtown Toronto   \n158         M6X      Not assigned   \n159         M7X      Not assigned   \n160         M8X         Etobicoke   \n161         M9X      Not assigned   \n162         M1Y      Not assigned   \n163         M2Y      Not assigned   \n164         M3Y      Not assigned   \n165         M4Y  Downtown Toronto   \n166         M5Y      Not assigned   \n167         M6Y      Not assigned   \n168         M7Y      East Toronto   \n169         M8Y         Etobicoke   \n170         M9Y      Not assigned   \n171         M1Z      Not assigned   \n172         M2Z      Not assigned   \n173         M3Z      Not assigned   \n174         M4Z      Not assigned   \n175         M5Z      Not assigned   \n176         M6Z      Not assigned   \n177         M7Z      Not assigned   \n178         M8Z         Etobicoke   \n179         M9Z      Not assigned   \n\n                                          Neighborhood  \n0                                                  NaN  \n1                                                  NaN  \n2                                            Parkwoods  \n3                                     Victoria Village  \n4                           Regent Park / Harbourfront  \n5                    Lawrence Manor / Lawrence Heights  \n6         Queen's Park / Ontario Provincial Government  \n7                                                  NaN  \n8                                     Islington Avenue  \n9                                      Malvern / Rouge  \n10                                                 NaN  \n11                                           Don Mills  \n12                    Parkview Hill / Woodbine Gardens  \n13                            Garden District, Ryerson  \n14                                           Glencairn  \n15                                                 NaN  \n16                                                 NaN  \n17   West Deane Park / Princess Gardens / Martin Gr...  \n18            Rouge Hill / Port Union / Highland Creek  \n19                                                 NaN  \n20                                           Don Mills  \n21                                    Woodbine Heights  \n22                                      St. James Town  \n23                                  Humewood-Cedarvale  \n24                                                 NaN  \n25                                                 NaN  \n26   Eringate / Bloordale Gardens / Old Burnhamthor...  \n27                 Guildwood / Morningside / West Hill  \n28                                                 NaN  \n29                                                 NaN  \n..                                                 ...  \n150                                                NaN  \n151                            Alderwood / Long Branch  \n152                                          Northwest  \n153                                        Upper Rouge  \n154                                                NaN  \n155                                                NaN  \n156                       St. James Town / Cabbagetown  \n157            First Canadian Place / Underground city  \n158                                                NaN  \n159                                                NaN  \n160    The Kingsway / Montgomery Road / Old Mill North  \n161                                                NaN  \n162                                                NaN  \n163                                                NaN  \n164                                                NaN  \n165                               Church and Wellesley  \n166                                                NaN  \n167                                                NaN  \n168              Business reply mail Processing CentrE  \n169  Old Mill South / King's Mill Park / Sunnylea /...  \n170                                                NaN  \n171                                                NaN  \n172                                                NaN  \n173                                                NaN  \n174                                                NaN  \n175                                                NaN  \n176                                                NaN  \n177                                                NaN  \n178  Mimico NW / The Queensway West / South of Bloo...  \n179                                                NaN  \n\n[180 rows x 3 columns]\n"
                }
            ],
            "source": ""
        },
        {
            "cell_type": "code",
            "execution_count": null,
            "metadata": {},
            "outputs": [],
            "source": ""
        }
    ],
    "metadata": {
        "kernelspec": {
            "display_name": "Python 3.6",
            "language": "python",
            "name": "python3"
        },
        "language_info": {
            "codemirror_mode": {
                "name": "ipython",
                "version": 3
            },
            "file_extension": ".py",
            "mimetype": "text/x-python",
            "name": "python",
            "nbconvert_exporter": "python",
            "pygments_lexer": "ipython3",
            "version": "3.6.9"
        }
    },
    "nbformat": 4,
    "nbformat_minor": 1
}